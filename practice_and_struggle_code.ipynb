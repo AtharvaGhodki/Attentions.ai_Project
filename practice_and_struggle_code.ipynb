{
  "nbformat": 4,
  "nbformat_minor": 0,
  "metadata": {
    "colab": {
      "provenance": [],
      "gpuType": "T4"
    },
    "kernelspec": {
      "name": "python3",
      "display_name": "Python 3"
    },
    "language_info": {
      "name": "python"
    },
    "accelerator": "GPU"
  },
  "cells": [
    {
      "cell_type": "code",
      "execution_count": null,
      "metadata": {
        "colab": {
          "base_uri": "https://localhost:8080/"
        },
        "id": "WYhB2OARw_Nq",
        "outputId": "e47f6534-2d03-4de4-cf09-fd607e053388"
      },
      "outputs": [
        {
          "output_type": "stream",
          "name": "stdout",
          "text": [
            "\u001b[2K   \u001b[90m━━━━━━━━━━━━━━━━━━━━━━━━━━━━━━━━━━━━━━━━\u001b[0m \u001b[32m1.0/1.0 MB\u001b[0m \u001b[31m9.8 MB/s\u001b[0m eta \u001b[36m0:00:00\u001b[0m\n",
            "\u001b[2K   \u001b[90m━━━━━━━━━━━━━━━━━━━━━━━━━━━━━━━━━━━━━━━━\u001b[0m \u001b[32m2.4/2.4 MB\u001b[0m \u001b[31m16.7 MB/s\u001b[0m eta \u001b[36m0:00:00\u001b[0m\n",
            "\u001b[2K   \u001b[90m━━━━━━━━━━━━━━━━━━━━━━━━━━━━━━━━━━━━━━━━\u001b[0m \u001b[32m302.0/302.0 kB\u001b[0m \u001b[31m7.2 MB/s\u001b[0m eta \u001b[36m0:00:00\u001b[0m\n",
            "\u001b[2K   \u001b[90m━━━━━━━━━━━━━━━━━━━━━━━━━━━━━━━━━━━━━━━━\u001b[0m \u001b[32m106.5/106.5 kB\u001b[0m \u001b[31m4.4 MB/s\u001b[0m eta \u001b[36m0:00:00\u001b[0m\n",
            "\u001b[2K   \u001b[90m━━━━━━━━━━━━━━━━━━━━━━━━━━━━━━━━━━━━━━━━\u001b[0m \u001b[32m408.7/408.7 kB\u001b[0m \u001b[31m11.6 MB/s\u001b[0m eta \u001b[36m0:00:00\u001b[0m\n",
            "\u001b[2K   \u001b[90m━━━━━━━━━━━━━━━━━━━━━━━━━━━━━━━━━━━━━━━━\u001b[0m \u001b[32m3.1/3.1 MB\u001b[0m \u001b[31m29.7 MB/s\u001b[0m eta \u001b[36m0:00:00\u001b[0m\n",
            "\u001b[2K   \u001b[90m━━━━━━━━━━━━━━━━━━━━━━━━━━━━━━━━━━━━━━━━\u001b[0m \u001b[32m49.5/49.5 kB\u001b[0m \u001b[31m2.1 MB/s\u001b[0m eta \u001b[36m0:00:00\u001b[0m\n",
            "\u001b[?25h"
          ]
        }
      ],
      "source": [
        "!pip install --upgrade --quiet  langchain langchain-community langchain-groq neo4j"
      ]
    },
    {
      "cell_type": "code",
      "source": [
        "## Graphdb configuration\n",
        "NEO4J_URI=\"neo4j+s://efe689a5.databases.neo4j.io\"\n",
        "NEO4J_USERNAME=\"neo4j\"\n",
        "NEO4J_PASSWORD=\"tScJDhi_NBBry7rmL0rVwvkvxaEDfEL2BUK9PqgDCZY\"\n"
      ],
      "metadata": {
        "id": "OBL8Iqs4xoeh"
      },
      "execution_count": null,
      "outputs": []
    },
    {
      "cell_type": "code",
      "source": [
        "import os\n",
        "os.environ[\"NEO4J_URI\"]=NEO4J_URI\n",
        "os.environ[\"NEO4J_USERNAME\"]=NEO4J_USERNAME\n",
        "os.environ[\"NEO4J_PASSWORD\"]=NEO4J_PASSWORD"
      ],
      "metadata": {
        "id": "uDS6XHgbycee"
      },
      "execution_count": null,
      "outputs": []
    },
    {
      "cell_type": "code",
      "source": [
        "from langchain_community.graphs import Neo4jGraph\n",
        "graph=Neo4jGraph(\n",
        "    url=NEO4J_URI,\n",
        "    username=NEO4J_USERNAME,\n",
        "    password=NEO4J_PASSWORD,\n",
        ")"
      ],
      "metadata": {
        "id": "5rikUUiCymWG"
      },
      "execution_count": null,
      "outputs": []
    },
    {
      "cell_type": "code",
      "source": [
        "graph"
      ],
      "metadata": {
        "colab": {
          "base_uri": "https://localhost:8080/"
        },
        "id": "j6Zy5Bc_y1oN",
        "outputId": "ecea46dd-79bb-45ca-e2fa-943eb356d0cc"
      },
      "execution_count": null,
      "outputs": [
        {
          "output_type": "execute_result",
          "data": {
            "text/plain": [
              "<langchain_community.graphs.neo4j_graph.Neo4jGraph at 0x7eaa18493b50>"
            ]
          },
          "metadata": {},
          "execution_count": 6
        }
      ]
    },
    {
      "cell_type": "markdown",
      "source": [],
      "metadata": {
        "id": "kgTcU67cuM-U"
      }
    },
    {
      "cell_type": "code",
      "source": [
        "groq_api_key=\"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\""
      ],
      "metadata": {
        "id": "55sZpcz8y2dx"
      },
      "execution_count": null,
      "outputs": []
    },
    {
      "cell_type": "code",
      "source": [
        "from langchain_groq import ChatGroq\n",
        "\n",
        "llm=ChatGroq(groq_api_key=groq_api_key,model_name=\"Gemma2-9b-It\")\n",
        "llm"
      ],
      "metadata": {
        "colab": {
          "base_uri": "https://localhost:8080/"
        },
        "id": "YtqR-fXVzxXZ",
        "outputId": "0a9f9a66-3896-4d6a-f9c9-0d18b13c8446"
      },
      "execution_count": null,
      "outputs": [
        {
          "output_type": "execute_result",
          "data": {
            "text/plain": [
              "ChatGroq(client=<groq.resources.chat.completions.Completions object at 0x7ea9d8deaa40>, async_client=<groq.resources.chat.completions.AsyncCompletions object at 0x7ea9d8e02800>, model_name='Gemma2-9b-It', model_kwargs={}, groq_api_key=SecretStr('**********'))"
            ]
          },
          "metadata": {},
          "execution_count": 8
        }
      ]
    },
    {
      "cell_type": "code",
      "source": [
        "from langchain_core.documents import Document\n",
        "text=\"\"\"\n",
        "Example Chat (Palma, Spain)\n",
        "User: Hi, I'd like to plan a one-day trip in Palma, Spain.\n",
        "System: Great! Let’s get started. What day are you planning for, and what time do you want\n",
        "to start and end your day?\n",
        "User: I'll be visiting on the 20th of July. I want to start at 9 AM and finish by 7 PM.\n",
        "System: Noted. Could you tell me your interests? For example, do you like historical sites,\n",
        "beaches, shopping, or food experiences?\n",
        "User: I like historical sites, beaches, and I prefer vegan food.\n",
        "System: Excellent! What's your budget for the day?\n",
        "User: I’d like to keep the budget moderate, around 100 Euros.\n",
        "System: Perfect! Where would you like to start your day? You can provide your hotel or any\n",
        "specific location, or we can start from the first attraction itself.\n",
        "User: I'm staying at Hotel Miramar.\n",
        "System: Got it! Here is an initial itinerary for your day in Palma, starting from Hotel\n",
        "Miramar:\n",
        "• Start Point: Hotel Miramar to Palma Cathedral (La Seu) (9:00 AM - 10:30 AM)\n",
        "o Travel Method: Taxi (10 minutes)\n",
        "o Activity: Explore the iconic Palma Cathedral, one of the most beautiful\n",
        "Gothic structures in Spain.\n",
        "o Cost: Approx. 15 Euros entry fee\n",
        "• Second Stop: Almudaina Palace (10:45 AM - 11:45 AM)\n",
        "o Travel Method: Walk (5 minutes from Palma Cathedral)\n",
        "o Activity: Visit the Royal Palace of La Almudaina, a beautiful historical site\n",
        "with stunning architecture.\n",
        "o Cost: Approx. 7 Euros entry fee\n",
        "• Third Stop: Passeig del Born (12:00 PM - 12:45 PM)\n",
        "o Travel Method: Walk (10 minutes)\n",
        "o Activity: Stroll along Passeig del Born, enjoy the atmosphere, and explore\n",
        "some local shops.\n",
        "• Lunch: Vegan Restaurant - Temple Natura Café Garden (1:00 PM - 2:00 PM)\n",
        "o Travel Method: Walk (10 minutes)\n",
        "o Cuisine: Vegan dishes in a beautiful garden setting.\n",
        "o Cost: Approx. 20 Euros\n",
        "• Fourth Stop: Bellver Castle (2:30 PM - 4:00 PM)\n",
        "o Travel Method: Taxi (15 minutes)\n",
        "o Activity: Visit Bellver Castle, a unique circular castle obering panoramic\n",
        "views of Palma and the sea.\n",
        "o Cost: Approx. 4 Euros entry fee\n",
        "• Fifth Stop: Cala Major Beach (4:30 PM - 6:00 PM)\n",
        "o Travel Method: Taxi (10 minutes)\n",
        "o Activity: Relax at Cala Major Beach, enjoy the sun, and take a dip in the\n",
        "Mediterranean Sea.\n",
        "• Return to Hotel: Hotel Miramar (6:15 PM - 7:00 PM)\n",
        "o Travel Method: Taxi (15 minutes)\n",
        "System: Here is the updated itinerary with costs and optimized travel:\n",
        "1. Start Point: Hotel Miramar to Palma Cathedral (9:00 AM - 10:30 AM)\n",
        "o Travel Method: Taxi (10 minutes)\n",
        "o Cost: 15 Euros (entry fee)\n",
        "2. Second Stop: Almudaina Palace (10:45 AM - 11:45 AM)\n",
        "o Travel Method: Walk (5 minutes)\n",
        "o Cost: 7 Euros (entry fee)\n",
        "3. Third Stop: Passeig del Born (12:00 PM - 12:45 PM)\n",
        "o Travel Method: Walk (10 minutes)\n",
        "4. Lunch: Temple Natura Café Garden (1:00 PM - 2:00 PM)\n",
        "o Travel Method: Walk (10 minutes)\n",
        "o Cost: 20 Euros\n",
        "5. Fourth Stop: Bellver Castle (2:30 PM - 4:00 PM)\n",
        "o Travel Method: Taxi (15 minutes)\n",
        "o Cost: 4 Euros (entry fee)\n",
        "6. Fifth Stop: Cala Major Beach (4:30 PM - 6:00 PM)\n",
        "o Travel Method: Taxi (10 minutes)\n",
        "7. Return to Hotel: Hotel Miramar (6:15 PM - 7:00 PM)\n",
        "o Travel Method: Taxi (15 minutes)\n",
        "Total Estimated Cost: Approx. 61 Euros\n",
        "System: The weather forecast for the 20th of July looks sunny and warm, perfect for beach\n",
        "activities. Make sure to bring sunscreen, a hat, and plenty of water to stay hydrated.\n",
        "User: That sounds great! Could you provide a map with all these places?\n",
        "System: Here is your interactive map: Palma Day Trip Itinerary Map\n",
        "• Starting Point: Hotel Miramar\n",
        "• Stops in Sequence: Palma Cathedral → Almudaina Palace → Passeig del Born →\n",
        "Temple Natura Café Garden (lunch) → Bellver Castle → Cala Major Beach → Hotel\n",
        "Miramar\n",
        "• Optimized Travel Path: Includes a combination of walking and taxi rides to\n",
        "ebiciently cover all attractions while staying within your budget.\n",
        " \"\"\"\n",
        "documents=[Document(page_content=text)]\n",
        "documents"
      ],
      "metadata": {
        "colab": {
          "base_uri": "https://localhost:8080/"
        },
        "id": "tMw2lopJ0XnX",
        "outputId": "958b79de-aa13-4067-80d7-298e23f4f512"
      },
      "execution_count": null,
      "outputs": [
        {
          "output_type": "execute_result",
          "data": {
            "text/plain": [
              "[Document(metadata={}, page_content=\"\\nExample Chat (Palma, Spain)\\nUser: Hi, I'd like to plan a one-day trip in Palma, Spain.\\nSystem: Great! Let’s get started. What day are you planning for, and what time do you want\\nto start and end your day?\\nUser: I'll be visiting on the 20th of July. I want to start at 9 AM and finish by 7 PM.\\nSystem: Noted. Could you tell me your interests? For example, do you like historical sites,\\nbeaches, shopping, or food experiences?\\nUser: I like historical sites, beaches, and I prefer vegan food.\\nSystem: Excellent! What's your budget for the day?\\nUser: I’d like to keep the budget moderate, around 100 Euros.\\nSystem: Perfect! Where would you like to start your day? You can provide your hotel or any\\nspecific location, or we can start from the first attraction itself.\\nUser: I'm staying at Hotel Miramar.\\nSystem: Got it! Here is an initial itinerary for your day in Palma, starting from Hotel\\nMiramar:\\n• Start Point: Hotel Miramar to Palma Cathedral (La Seu) (9:00 AM - 10:30 AM)\\no Travel Method: Taxi (10 minutes)\\no Activity: Explore the iconic Palma Cathedral, one of the most beautiful\\nGothic structures in Spain.\\no Cost: Approx. 15 Euros entry fee\\n• Second Stop: Almudaina Palace (10:45 AM - 11:45 AM)\\no Travel Method: Walk (5 minutes from Palma Cathedral)\\no Activity: Visit the Royal Palace of La Almudaina, a beautiful historical site\\nwith stunning architecture.\\no Cost: Approx. 7 Euros entry fee\\n• Third Stop: Passeig del Born (12:00 PM - 12:45 PM)\\no Travel Method: Walk (10 minutes)\\no Activity: Stroll along Passeig del Born, enjoy the atmosphere, and explore\\nsome local shops.\\n• Lunch: Vegan Restaurant - Temple Natura Café Garden (1:00 PM - 2:00 PM)\\no Travel Method: Walk (10 minutes)\\no Cuisine: Vegan dishes in a beautiful garden setting.\\no Cost: Approx. 20 Euros\\n• Fourth Stop: Bellver Castle (2:30 PM - 4:00 PM)\\no Travel Method: Taxi (15 minutes)\\no Activity: Visit Bellver Castle, a unique circular castle obering panoramic\\nviews of Palma and the sea.\\no Cost: Approx. 4 Euros entry fee\\n• Fifth Stop: Cala Major Beach (4:30 PM - 6:00 PM)\\no Travel Method: Taxi (10 minutes)\\no Activity: Relax at Cala Major Beach, enjoy the sun, and take a dip in the\\nMediterranean Sea.\\n• Return to Hotel: Hotel Miramar (6:15 PM - 7:00 PM)\\no Travel Method: Taxi (15 minutes)\\nSystem: Here is the updated itinerary with costs and optimized travel:\\n1. Start Point: Hotel Miramar to Palma Cathedral (9:00 AM - 10:30 AM)\\no Travel Method: Taxi (10 minutes)\\no Cost: 15 Euros (entry fee)\\n2. Second Stop: Almudaina Palace (10:45 AM - 11:45 AM)\\no Travel Method: Walk (5 minutes)\\no Cost: 7 Euros (entry fee)\\n3. Third Stop: Passeig del Born (12:00 PM - 12:45 PM)\\no Travel Method: Walk (10 minutes)\\n4. Lunch: Temple Natura Café Garden (1:00 PM - 2:00 PM)\\no Travel Method: Walk (10 minutes)\\no Cost: 20 Euros\\n5. Fourth Stop: Bellver Castle (2:30 PM - 4:00 PM)\\no Travel Method: Taxi (15 minutes)\\no Cost: 4 Euros (entry fee)\\n6. Fifth Stop: Cala Major Beach (4:30 PM - 6:00 PM)\\no Travel Method: Taxi (10 minutes)\\n7. Return to Hotel: Hotel Miramar (6:15 PM - 7:00 PM)\\no Travel Method: Taxi (15 minutes)\\nTotal Estimated Cost: Approx. 61 Euros\\nSystem: The weather forecast for the 20th of July looks sunny and warm, perfect for beach\\nactivities. Make sure to bring sunscreen, a hat, and plenty of water to stay hydrated.\\nUser: That sounds great! Could you provide a map with all these places?\\nSystem: Here is your interactive map: Palma Day Trip Itinerary Map\\n• Starting Point: Hotel Miramar\\n• Stops in Sequence: Palma Cathedral → Almudaina Palace → Passeig del Born →\\nTemple Natura Café Garden (lunch) → Bellver Castle → Cala Major Beach → Hotel\\nMiramar\\n• Optimized Travel Path: Includes a combination of walking and taxi rides to\\nebiciently cover all attractions while staying within your budget.\\n \")]"
            ]
          },
          "metadata": {},
          "execution_count": 56
        }
      ]
    },
    {
      "cell_type": "code",
      "source": [
        "!pip install --upgrade --quiet langchain_experimental"
      ],
      "metadata": {
        "colab": {
          "base_uri": "https://localhost:8080/"
        },
        "id": "6mbEhsdS1Y0N",
        "outputId": "81bbca09-bdce-4c6f-a24b-15b92ec90b16"
      },
      "execution_count": null,
      "outputs": [
        {
          "output_type": "stream",
          "name": "stdout",
          "text": [
            "\u001b[?25l   \u001b[90m━━━━━━━━━━━━━━━━━━━━━━━━━━━━━━━━━━━━━━━━\u001b[0m \u001b[32m0.0/209.0 kB\u001b[0m \u001b[31m?\u001b[0m eta \u001b[36m-:--:--\u001b[0m\r\u001b[2K   \u001b[90m━━━━━━━━━━━━━━━━━━━━━━━━━━━━━━━━━━━━━━━━\u001b[0m \u001b[32m209.0/209.0 kB\u001b[0m \u001b[31m7.4 MB/s\u001b[0m eta \u001b[36m0:00:00\u001b[0m\n",
            "\u001b[?25h"
          ]
        }
      ]
    },
    {
      "cell_type": "code",
      "source": [
        "from langchain_experimental.graph_transformers import LLMGraphTransformer\n",
        "llm_transformer=LLMGraphTransformer(llm=llm)"
      ],
      "metadata": {
        "id": "8ripzwTX0q1X"
      },
      "execution_count": null,
      "outputs": []
    },
    {
      "cell_type": "markdown",
      "source": [],
      "metadata": {
        "id": "Dmr5FVeHUSt9"
      }
    },
    {
      "cell_type": "code",
      "source": [
        "graph_documents=llm_transformer.convert_to_graph_documents(documents)"
      ],
      "metadata": {
        "id": "QedL67iH1ujK"
      },
      "execution_count": null,
      "outputs": []
    },
    {
      "cell_type": "code",
      "source": [
        "graph_documents"
      ],
      "metadata": {
        "colab": {
          "base_uri": "https://localhost:8080/"
        },
        "id": "uAdF2BZm13w4",
        "outputId": "cb7e4b91-2fdc-4e2e-f7b3-cc40b1b3e1c4"
      },
      "execution_count": null,
      "outputs": [
        {
          "output_type": "execute_result",
          "data": {
            "text/plain": [
              "[GraphDocument(nodes=[Node(id='Hotel Miramar', type='Location', properties={}), Node(id='Palma Cathedral', type='Building', properties={}), Node(id='Almudaina Palace', type='Building', properties={}), Node(id='Passeig Del Born', type='Street', properties={}), Node(id='Temple Natura Café Garden', type='Restaurant', properties={}), Node(id='Bellver Castle', type='Building', properties={}), Node(id='Cala Major Beach', type='Beach', properties={})], relationships=[Relationship(source=Node(id='Hotel Miramar', type='Location', properties={}), target=Node(id='Palma Cathedral', type='Building', properties={}), type='TRAVEL', properties={}), Relationship(source=Node(id='Palma Cathedral', type='Building', properties={}), target=Node(id='Almudaina Palace', type='Building', properties={}), type='NEAR', properties={}), Relationship(source=Node(id='Almudaina Palace', type='Building', properties={}), target=Node(id='Passeig Del Born', type='Street', properties={}), type='NEAR', properties={}), Relationship(source=Node(id='Passeig Del Born', type='Street', properties={}), target=Node(id='Temple Natura Café Garden', type='Restaurant', properties={}), type='NEAR', properties={}), Relationship(source=Node(id='Temple Natura Café Garden', type='Restaurant', properties={}), target=Node(id='Bellver Castle', type='Building', properties={}), type='TRAVEL', properties={}), Relationship(source=Node(id='Bellver Castle', type='Building', properties={}), target=Node(id='Cala Major Beach', type='Beach', properties={}), type='TRAVEL', properties={}), Relationship(source=Node(id='Cala Major Beach', type='Beach', properties={}), target=Node(id='Hotel Miramar', type='Location', properties={}), type='TRAVEL', properties={})], source=Document(metadata={}, page_content=\"\\nExample Chat (Palma, Spain)\\nUser: Hi, I'd like to plan a one-day trip in Palma, Spain.\\nSystem: Great! Let’s get started. What day are you planning for, and what time do you want\\nto start and end your day?\\nUser: I'll be visiting on the 20th of July. I want to start at 9 AM and finish by 7 PM.\\nSystem: Noted. Could you tell me your interests? For example, do you like historical sites,\\nbeaches, shopping, or food experiences?\\nUser: I like historical sites, beaches, and I prefer vegan food.\\nSystem: Excellent! What's your budget for the day?\\nUser: I’d like to keep the budget moderate, around 100 Euros.\\nSystem: Perfect! Where would you like to start your day? You can provide your hotel or any\\nspecific location, or we can start from the first attraction itself.\\nUser: I'm staying at Hotel Miramar.\\nSystem: Got it! Here is an initial itinerary for your day in Palma, starting from Hotel\\nMiramar:\\n• Start Point: Hotel Miramar to Palma Cathedral (La Seu) (9:00 AM - 10:30 AM)\\no Travel Method: Taxi (10 minutes)\\no Activity: Explore the iconic Palma Cathedral, one of the most beautiful\\nGothic structures in Spain.\\no Cost: Approx. 15 Euros entry fee\\n• Second Stop: Almudaina Palace (10:45 AM - 11:45 AM)\\no Travel Method: Walk (5 minutes from Palma Cathedral)\\no Activity: Visit the Royal Palace of La Almudaina, a beautiful historical site\\nwith stunning architecture.\\no Cost: Approx. 7 Euros entry fee\\n• Third Stop: Passeig del Born (12:00 PM - 12:45 PM)\\no Travel Method: Walk (10 minutes)\\no Activity: Stroll along Passeig del Born, enjoy the atmosphere, and explore\\nsome local shops.\\n• Lunch: Vegan Restaurant - Temple Natura Café Garden (1:00 PM - 2:00 PM)\\no Travel Method: Walk (10 minutes)\\no Cuisine: Vegan dishes in a beautiful garden setting.\\no Cost: Approx. 20 Euros\\n• Fourth Stop: Bellver Castle (2:30 PM - 4:00 PM)\\no Travel Method: Taxi (15 minutes)\\no Activity: Visit Bellver Castle, a unique circular castle obering panoramic\\nviews of Palma and the sea.\\no Cost: Approx. 4 Euros entry fee\\n• Fifth Stop: Cala Major Beach (4:30 PM - 6:00 PM)\\no Travel Method: Taxi (10 minutes)\\no Activity: Relax at Cala Major Beach, enjoy the sun, and take a dip in the\\nMediterranean Sea.\\n• Return to Hotel: Hotel Miramar (6:15 PM - 7:00 PM)\\no Travel Method: Taxi (15 minutes)\\nSystem: Here is the updated itinerary with costs and optimized travel:\\n1. Start Point: Hotel Miramar to Palma Cathedral (9:00 AM - 10:30 AM)\\no Travel Method: Taxi (10 minutes)\\no Cost: 15 Euros (entry fee)\\n2. Second Stop: Almudaina Palace (10:45 AM - 11:45 AM)\\no Travel Method: Walk (5 minutes)\\no Cost: 7 Euros (entry fee)\\n3. Third Stop: Passeig del Born (12:00 PM - 12:45 PM)\\no Travel Method: Walk (10 minutes)\\n4. Lunch: Temple Natura Café Garden (1:00 PM - 2:00 PM)\\no Travel Method: Walk (10 minutes)\\no Cost: 20 Euros\\n5. Fourth Stop: Bellver Castle (2:30 PM - 4:00 PM)\\no Travel Method: Taxi (15 minutes)\\no Cost: 4 Euros (entry fee)\\n6. Fifth Stop: Cala Major Beach (4:30 PM - 6:00 PM)\\no Travel Method: Taxi (10 minutes)\\n7. Return to Hotel: Hotel Miramar (6:15 PM - 7:00 PM)\\no Travel Method: Taxi (15 minutes)\\nTotal Estimated Cost: Approx. 61 Euros\\nSystem: The weather forecast for the 20th of July looks sunny and warm, perfect for beach\\nactivities. Make sure to bring sunscreen, a hat, and plenty of water to stay hydrated.\\nUser: That sounds great! Could you provide a map with all these places?\\nSystem: Here is your interactive map: Palma Day Trip Itinerary Map\\n• Starting Point: Hotel Miramar\\n• Stops in Sequence: Palma Cathedral → Almudaina Palace → Passeig del Born →\\nTemple Natura Café Garden (lunch) → Bellver Castle → Cala Major Beach → Hotel\\nMiramar\\n• Optimized Travel Path: Includes a combination of walking and taxi rides to\\nebiciently cover all attractions while staying within your budget.\\n \"))]"
            ]
          },
          "metadata": {},
          "execution_count": 59
        }
      ]
    },
    {
      "cell_type": "code",
      "source": [
        "graph_documents[0].nodes"
      ],
      "metadata": {
        "colab": {
          "base_uri": "https://localhost:8080/"
        },
        "id": "h3pSzKLE2OJj",
        "outputId": "c10611c1-6839-4231-aa8b-b7d9af4cfc70"
      },
      "execution_count": null,
      "outputs": [
        {
          "output_type": "execute_result",
          "data": {
            "text/plain": [
              "[Node(id='Hotel Miramar', type='Location', properties={}),\n",
              " Node(id='Palma Cathedral', type='Building', properties={}),\n",
              " Node(id='Almudaina Palace', type='Building', properties={}),\n",
              " Node(id='Passeig Del Born', type='Street', properties={}),\n",
              " Node(id='Temple Natura Café Garden', type='Restaurant', properties={}),\n",
              " Node(id='Bellver Castle', type='Building', properties={}),\n",
              " Node(id='Cala Major Beach', type='Beach', properties={})]"
            ]
          },
          "metadata": {},
          "execution_count": 60
        }
      ]
    },
    {
      "cell_type": "code",
      "source": [
        "graph_documents[0].relationships"
      ],
      "metadata": {
        "colab": {
          "base_uri": "https://localhost:8080/"
        },
        "id": "DvvdoA5W2fEZ",
        "outputId": "c08ccdf9-cf98-4f3d-81e1-4040f2601653"
      },
      "execution_count": null,
      "outputs": [
        {
          "output_type": "execute_result",
          "data": {
            "text/plain": [
              "[Relationship(source=Node(id='Hotel Miramar', type='Location', properties={}), target=Node(id='Palma Cathedral', type='Building', properties={}), type='TRAVEL', properties={}),\n",
              " Relationship(source=Node(id='Palma Cathedral', type='Building', properties={}), target=Node(id='Almudaina Palace', type='Building', properties={}), type='NEAR', properties={}),\n",
              " Relationship(source=Node(id='Almudaina Palace', type='Building', properties={}), target=Node(id='Passeig Del Born', type='Street', properties={}), type='NEAR', properties={}),\n",
              " Relationship(source=Node(id='Passeig Del Born', type='Street', properties={}), target=Node(id='Temple Natura Café Garden', type='Restaurant', properties={}), type='NEAR', properties={}),\n",
              " Relationship(source=Node(id='Temple Natura Café Garden', type='Restaurant', properties={}), target=Node(id='Bellver Castle', type='Building', properties={}), type='TRAVEL', properties={}),\n",
              " Relationship(source=Node(id='Bellver Castle', type='Building', properties={}), target=Node(id='Cala Major Beach', type='Beach', properties={}), type='TRAVEL', properties={}),\n",
              " Relationship(source=Node(id='Cala Major Beach', type='Beach', properties={}), target=Node(id='Hotel Miramar', type='Location', properties={}), type='TRAVEL', properties={})]"
            ]
          },
          "metadata": {},
          "execution_count": 62
        }
      ]
    },
    {
      "cell_type": "code",
      "source": [
        "graph.add_graph_documents(graph_documents, include_source=True)"
      ],
      "metadata": {
        "id": "eWPXOXKCn9-y"
      },
      "execution_count": null,
      "outputs": []
    },
    {
      "cell_type": "code",
      "source": [
        "from langchain.prompts import PromptTemplate\n",
        "schema = graph.get_schema\n",
        "# Set up the QA chain\n",
        "template = \"\"\"\n",
        "                Task: Generate a Cypher statement to query the graph database.\n",
        "\n",
        "                Instructions:\n",
        "                Use only relationship types and properties provided in schema.\n",
        "                Do not use other relationship types or properties that are not provided.\n",
        "\n",
        "                schema:\n",
        "                {schema}\n",
        "\n",
        "                Note: Do not include explanations or apologies in your answers.\n",
        "                Do not answer questions that ask anything other than creating Cypher statements.\n",
        "                Do not include any text other than generated Cypher statements.\n",
        "\n",
        "                Question: {question}\"\"\"\n",
        "\n",
        "question_prompt = PromptTemplate(\n",
        "                    template=template,\n",
        "                    input_variables=[\"schema\", \"question\"]\n",
        "                )\n"
      ],
      "metadata": {
        "id": "lGe0iiUjr7Pl"
      },
      "execution_count": null,
      "outputs": []
    },
    {
      "cell_type": "code",
      "source": [
        "from langchain.chains import GraphCypherQAChain\n",
        "chain = GraphCypherQAChain.from_llm(\n",
        "                    llm=llm,\n",
        "                    graph=graph,\n",
        "                    cypher_prompt=question_prompt,\n",
        "                    verbose=True,\n",
        "                    allow_dangerous_requests=True\n",
        "                )\n",
        "chain"
      ],
      "metadata": {
        "colab": {
          "base_uri": "https://localhost:8080/"
        },
        "id": "tGUot6uZ8wnj",
        "outputId": "213cb47d-1481-4ee8-95c2-20e581eeffa4"
      },
      "execution_count": null,
      "outputs": [
        {
          "output_type": "execute_result",
          "data": {
            "text/plain": [
              "GraphCypherQAChain(verbose=True, graph=<langchain_community.graphs.neo4j_graph.Neo4jGraph object at 0x7eaa18493b50>, cypher_generation_chain=LLMChain(verbose=False, prompt=PromptTemplate(input_variables=['question', 'schema'], input_types={}, partial_variables={}, template='\\n                Task: Generate a Cypher statement to query the graph database.\\n\\n                Instructions:\\n                Use only relationship types and properties provided in schema.\\n                Do not use other relationship types or properties that are not provided.\\n\\n                schema:\\n                {schema}\\n\\n                Note: Do not include explanations or apologies in your answers.\\n                Do not answer questions that ask anything other than creating Cypher statements.\\n                Do not include any text other than generated Cypher statements.\\n\\n                Question: {question}'), llm=ChatGroq(client=<groq.resources.chat.completions.Completions object at 0x7ea9d8deaa40>, async_client=<groq.resources.chat.completions.AsyncCompletions object at 0x7ea9d8e02800>, model_name='Gemma2-9b-It', model_kwargs={}, groq_api_key=SecretStr('**********')), output_parser=StrOutputParser(), llm_kwargs={}), qa_chain=LLMChain(verbose=False, prompt=PromptTemplate(input_variables=['context', 'question'], input_types={}, partial_variables={}, template=\"You are an assistant that helps to form nice and human understandable answers.\\nThe information part contains the provided information that you must use to construct an answer.\\nThe provided information is authoritative, you must never doubt it or try to use your internal knowledge to correct it.\\nMake the answer sound as a response to the question. Do not mention that you based the result on the given information.\\nHere is an example:\\n\\nQuestion: Which managers own Neo4j stocks?\\nContext:[manager:CTL LLC, manager:JANE STREET GROUP LLC]\\nHelpful Answer: CTL LLC, JANE STREET GROUP LLC owns Neo4j stocks.\\n\\nFollow this example when generating answers.\\nIf the provided information is empty, say that you don't know the answer.\\nInformation:\\n{context}\\n\\nQuestion: {question}\\nHelpful Answer:\"), llm=ChatGroq(client=<groq.resources.chat.completions.Completions object at 0x7ea9d8deaa40>, async_client=<groq.resources.chat.completions.AsyncCompletions object at 0x7ea9d8e02800>, model_name='Gemma2-9b-It', model_kwargs={}, groq_api_key=SecretStr('**********')), output_parser=StrOutputParser(), llm_kwargs={}), graph_schema='Node properties are the following:\\nDocument {id: STRING, text: STRING},Location {id: STRING, name: STRING},Landmark {id: STRING},Memorial {id: STRING},Building {id: STRING},Restaurant {id: STRING},Museum {id: STRING},Church {id: STRING},Cafe {id: STRING},Street {id: STRING},Beach {id: STRING},User {name: STRING},Detail {name: STRING}\\nRelationship properties are the following:\\n\\nThe relationships are the following:\\n(:Document)-[:MENTIONS]->(:Location),(:Document)-[:MENTIONS]->(:Landmark),(:Document)-[:MENTIONS]->(:Memorial),(:Document)-[:MENTIONS]->(:Building),(:Document)-[:MENTIONS]->(:Restaurant),(:Document)-[:MENTIONS]->(:Museum),(:Document)-[:MENTIONS]->(:Church),(:Document)-[:MENTIONS]->(:Cafe),(:Document)-[:MENTIONS]->(:Street),(:Document)-[:MENTIONS]->(:Beach),(:Location)-[:NEARBY]->(:Landmark),(:Location)-[:TRAVEL]->(:Building),(:Landmark)-[:NEARBY]->(:Memorial),(:Landmark)-[:NEARBY]->(:Restaurant),(:Memorial)-[:NEARBY]->(:Building),(:Building)-[:NEARBY]->(:Restaurant),(:Building)-[:NEAR]->(:Building),(:Building)-[:NEAR]->(:Street),(:Building)-[:TRAVEL]->(:Beach),(:Restaurant)-[:NEARBY]->(:Museum),(:Restaurant)-[:TRAVEL]->(:Building),(:Museum)-[:NEARBY]->(:Church),(:Museum)-[:PART_OF]->(:Museum),(:Church)-[:NEARBY]->(:Cafe),(:Cafe)-[:NEARBY]->(:Landmark),(:Street)-[:NEAR]->(:Restaurant),(:Beach)-[:TRAVEL]->(:Location),(:User)-[:PLANS_TO_VISIT]->(:Detail),(:Detail)-[:IS_ABOUT]->(:Location)', allow_dangerous_requests=True)"
            ]
          },
          "metadata": {},
          "execution_count": 12
        }
      ]
    },
    {
      "cell_type": "code",
      "source": [
        "response=chain.invoke({\"query\":\"Nearby places of curry 36\"})\n",
        "\n",
        "response"
      ],
      "metadata": {
        "colab": {
          "base_uri": "https://localhost:8080/"
        },
        "id": "53tukPgo9Ab9",
        "outputId": "3468edd9-6295-47c2-e4a6-5d137c91e46d"
      },
      "execution_count": null,
      "outputs": [
        {
          "output_type": "stream",
          "name": "stdout",
          "text": [
            "\n",
            "\n",
            "\u001b[1m> Entering new GraphCypherQAChain chain...\u001b[0m\n",
            "Generated Cypher:\n",
            "\u001b[32;1m\u001b[1;3mMATCH (d:Document {text: \"curry 36\"})-[:MENTIONS]->(p:Place)\n",
            "MATCH (p)-[:NEARBY]->(n:Place)\n",
            "RETURN n.id\n",
            "\u001b[0m\n"
          ]
        },
        {
          "output_type": "stream",
          "name": "stderr",
          "text": [
            "WARNING:neo4j.notifications:Received notification from DBMS server: {severity: WARNING} {code: Neo.ClientNotification.Statement.UnknownLabelWarning} {category: UNRECOGNIZED} {title: The provided label is not in the database.} {description: One of the labels in your query is not available in the database, make sure you didn't misspell it or that the label is available when you run this statement in your application (the missing label name is: Place)} {position: line: 1, column: 55, offset: 54} for query: 'MATCH (d:Document {text: \"curry 36\"})-[:MENTIONS]->(p:Place)\\nMATCH (p)-[:NEARBY]->(n:Place)\\nRETURN n.id\\n'\n",
            "WARNING:neo4j.notifications:Received notification from DBMS server: {severity: WARNING} {code: Neo.ClientNotification.Statement.UnknownLabelWarning} {category: UNRECOGNIZED} {title: The provided label is not in the database.} {description: One of the labels in your query is not available in the database, make sure you didn't misspell it or that the label is available when you run this statement in your application (the missing label name is: Place)} {position: line: 2, column: 25, offset: 85} for query: 'MATCH (d:Document {text: \"curry 36\"})-[:MENTIONS]->(p:Place)\\nMATCH (p)-[:NEARBY]->(n:Place)\\nRETURN n.id\\n'\n"
          ]
        },
        {
          "output_type": "stream",
          "name": "stdout",
          "text": [
            "Full Context:\n",
            "\u001b[32;1m\u001b[1;3m[]\u001b[0m\n",
            "\n",
            "\u001b[1m> Finished chain.\u001b[0m\n"
          ]
        },
        {
          "output_type": "execute_result",
          "data": {
            "text/plain": [
              "{'query': 'Nearby places of curry 36', 'result': \"I don't know the answer. \\n\"}"
            ]
          },
          "metadata": {},
          "execution_count": 67
        }
      ]
    },
    {
      "cell_type": "code",
      "source": [
        "from langchain.schema import (\n",
        "    AIMessage,\n",
        "    HumanMessage,\n",
        "    SystemMessage\n",
        ")\n",
        "\n",
        "def generate_cypher_query(llm_response, user_id, llm=llm):\n",
        "    prompt = f\"\"\"\n",
        "    You are a graph database assistant. The user response is as follows: \"{llm_response}\".\n",
        "    Extract meaningful information from this response as Entity-Relationship-Entity triplets in the format:\n",
        "    (User, RELATIONSHIP, Detail). Then convert this into a Cypher query that updates the Neo4j database.\n",
        "\n",
        "    Example Triplet: (\"User\", \"PLANS_TO_VISIT\", \"Berlin\")\n",
        "\n",
        "    Format the Cypher query like:\n",
        "    MERGE (a:User {{name: '{user_id}'}})\n",
        "    MERGE (b:Detail {{name: 'Extracted detail'}})\n",
        "    MERGE (a)-[:RELATIONSHIP]->(b)\n",
        "\n",
        "    Provide the Cypher query based on the information from the response without any other comment.\n",
        "    \"\"\"\n",
        "    # Create a HumanMessage object with the prompt\n",
        "    message = HumanMessage(content=prompt)\n",
        "    cypher_query = llm([message]).content # Call llm with a list containing the HumanMessage object\n",
        "    return cypher_query"
      ],
      "metadata": {
        "id": "IcFi8quT6Nzz"
      },
      "execution_count": null,
      "outputs": []
    },
    {
      "cell_type": "code",
      "source": [
        "def store_memory_in_neo4j(cypher_query, neo4j_driver):\n",
        "    with neo4j_driver.session() as session:\n",
        "        session.run(cypher_query)"
      ],
      "metadata": {
        "id": "fDyqs_8iJfhG"
      },
      "execution_count": null,
      "outputs": []
    },
    {
      "cell_type": "code",
      "source": [
        "from neo4j import GraphDatabase\n",
        "neo4j_driver = GraphDatabase.driver(NEO4J_URI, auth=(NEO4J_USERNAME, NEO4J_PASSWORD))\n",
        "cypher_query=generate_cypher_query(\"Here the trip to visit Berlin it to visits its historical sites\",1)\n",
        "print(cypher_query)\n",
        "store_memory_in_neo4j(cypher_query, neo4j_driver)"
      ],
      "metadata": {
        "colab": {
          "base_uri": "https://localhost:8080/"
        },
        "id": "gFw8qv2kLUo0",
        "outputId": "a687a43f-1cac-46cd-ce5f-732d43cd47ea"
      },
      "execution_count": null,
      "outputs": [
        {
          "output_type": "stream",
          "name": "stderr",
          "text": [
            "<ipython-input-13-2b3a3c879362>:24: LangChainDeprecationWarning: The method `BaseChatModel.__call__` was deprecated in langchain-core 0.1.7 and will be removed in 1.0. Use :meth:`~invoke` instead.\n",
            "  cypher_query = llm([message]).content # Call llm with a list containing the HumanMessage object\n"
          ]
        },
        {
          "output_type": "stream",
          "name": "stdout",
          "text": [
            "MERGE (a:User {name: '1'})\n",
            "MERGE (b:Detail {name: 'visit its historical sites'})\n",
            "MERGE (a)-[:PLANS_TO_VISIT]->(b) \n",
            "MERGE (c:City {name: 'Berlin'})\n",
            "MERGE (b)-[:LOCATION]->(c)  \n",
            "\n"
          ]
        }
      ]
    },
    {
      "cell_type": "code",
      "source": [
        "from langchain.schema import HumanMessage\n",
        "\n",
        "def extract_information_from_neo4j(user_query, conversation_history, neo4j_driver, llm=llm):\n",
        "    # Generate Cypher query to fetch relevant information based on user query and conversation history\n",
        "    prompt = f\"\"\"\n",
        "    Given the following user query and conversation history, generate a Cypher query that extracts meaningful information\n",
        "    from a Neo4j database. Use the context about the user's trip, preferences, activities, food types, and any relevant\n",
        "    past interactions mentioned in the conversation history to tailor the response.\n",
        "\n",
        "    Conversation History: \"{conversation_history}\"\n",
        "\n",
        "    User Query: \"{user_query}\"\n",
        "\n",
        "    Example Format the Cypher query like:\n",
        "    MERGE (a:User {{name: 'related data'}})\n",
        "    MERGE (b:Detail {{name: 'Extracted detail'}})\n",
        "    MERGE (a)-[:RELATIONSHIP]->(b)\n",
        "\n",
        "   Provide the Cypher query based on the information from the response without any other comment. This is strict that only provide cypher query not other comment\n",
        "    \"\"\"\n",
        "    message = HumanMessage(content=prompt)\n",
        "    # Call llm with a list containing the HumanMessage object\n",
        "    cypher_query = llm([message]).content\n",
        "\n",
        "    # Execute the generated Cypher query on Neo4j\n",
        "    with neo4j_driver.session() as session:\n",
        "        result = session.run(cypher_query)\n",
        "        extracted_info = [record.data() for record in result]\n",
        "\n",
        "    # Check if results exist, else return an empty list\n",
        "    if not extracted_info:\n",
        "        return []\n",
        "\n",
        "    return extracted_info\n"
      ],
      "metadata": {
        "id": "9miM1c4uN-So"
      },
      "execution_count": null,
      "outputs": []
    },
    {
      "cell_type": "code",
      "source": [
        "print(extract_information_from_neo4j(\"Suggest me what should I visit after this\", \"Have visited the historic places\", neo4j_driver))"
      ],
      "metadata": {
        "colab": {
          "base_uri": "https://localhost:8080/"
        },
        "id": "7UHfbrmfMoz1",
        "outputId": "bf7283a4-cae1-4e82-8767-76b62d60b26e"
      },
      "execution_count": null,
      "outputs": [
        {
          "output_type": "stream",
          "name": "stderr",
          "text": [
            "WARNING:neo4j.notifications:Received notification from DBMS server: {severity: WARNING} {code: Neo.ClientNotification.Statement.UnknownRelationshipTypeWarning} {category: UNRECOGNIZED} {title: The provided relationship type is not in the database.} {description: One of the relationship types in your query is not available in the database, make sure you didn't misspell it or that the label is available when you run this statement in your application (the missing relationship type is: VISITED)} {position: line: 1, column: 32, offset: 31} for query: 'MATCH (place:HistoricPlace)<-[:VISITED]-(user:User) \\nRETURN place.name \\nLIMIT 10 \\n \\n\\n'\n",
            "WARNING:neo4j.notifications:Received notification from DBMS server: {severity: WARNING} {code: Neo.ClientNotification.Statement.UnknownLabelWarning} {category: UNRECOGNIZED} {title: The provided label is not in the database.} {description: One of the labels in your query is not available in the database, make sure you didn't misspell it or that the label is available when you run this statement in your application (the missing label name is: HistoricPlace)} {position: line: 1, column: 14, offset: 13} for query: 'MATCH (place:HistoricPlace)<-[:VISITED]-(user:User) \\nRETURN place.name \\nLIMIT 10 \\n \\n\\n'\n"
          ]
        },
        {
          "output_type": "stream",
          "name": "stdout",
          "text": [
            "[]\n"
          ]
        }
      ]
    },
    {
      "cell_type": "code",
      "source": [
        "!pip install -q streamlit"
      ],
      "metadata": {
        "colab": {
          "base_uri": "https://localhost:8080/"
        },
        "id": "twENeM0RuBGL",
        "outputId": "45813e6a-0c51-495d-de1a-701fec93c64d"
      },
      "execution_count": null,
      "outputs": [
        {
          "output_type": "stream",
          "name": "stdout",
          "text": [
            "\u001b[2K     \u001b[90m━━━━━━━━━━━━━━━━━━━━━━━━━━━━━━━━━━━━━━━━\u001b[0m \u001b[32m41.9/41.9 kB\u001b[0m \u001b[31m2.6 MB/s\u001b[0m eta \u001b[36m0:00:00\u001b[0m\n",
            "\u001b[2K   \u001b[90m━━━━━━━━━━━━━━━━━━━━━━━━━━━━━━━━━━━━━━━━\u001b[0m \u001b[32m8.6/8.6 MB\u001b[0m \u001b[31m83.6 MB/s\u001b[0m eta \u001b[36m0:00:00\u001b[0m\n",
            "\u001b[2K   \u001b[90m━━━━━━━━━━━━━━━━━━━━━━━━━━━━━━━━━━━━━━━━\u001b[0m \u001b[32m6.9/6.9 MB\u001b[0m \u001b[31m90.1 MB/s\u001b[0m eta \u001b[36m0:00:00\u001b[0m\n",
            "\u001b[2K   \u001b[90m━━━━━━━━━━━━━━━━━━━━━━━━━━━━━━━━━━━━━━━━\u001b[0m \u001b[32m79.3/79.3 kB\u001b[0m \u001b[31m5.2 MB/s\u001b[0m eta \u001b[36m0:00:00\u001b[0m\n",
            "\u001b[?25h"
          ]
        }
      ]
    },
    {
      "cell_type": "code",
      "source": [
        "!npm install localtunnel"
      ],
      "metadata": {
        "colab": {
          "base_uri": "https://localhost:8080/"
        },
        "id": "MJwWaDtyuCug",
        "outputId": "3f92aad5-4427-452b-9ce5-0b22f5a9a5a8"
      },
      "execution_count": null,
      "outputs": [
        {
          "output_type": "stream",
          "name": "stdout",
          "text": [
            "\u001b[K\u001b[?25h\n",
            "added 22 packages, and audited 23 packages in 2s\n",
            "\n",
            "3 packages are looking for funding\n",
            "  run `npm fund` for details\n",
            "\n",
            "2 \u001b[33m\u001b[1mmoderate\u001b[22m\u001b[39m severity vulnerabilities\n",
            "\n",
            "To address all issues, run:\n",
            "  npm audit fix\n",
            "\n",
            "Run `npm audit` for details.\n"
          ]
        }
      ]
    },
    {
      "cell_type": "code",
      "source": [
        "!pip install ollama"
      ],
      "metadata": {
        "colab": {
          "base_uri": "https://localhost:8080/"
        },
        "id": "WyUF10z3hDQr",
        "outputId": "85ab6d5a-950c-4ec3-8edd-aa5cb3535f50"
      },
      "execution_count": null,
      "outputs": [
        {
          "output_type": "stream",
          "name": "stdout",
          "text": [
            "Collecting ollama\n",
            "  Downloading ollama-0.3.3-py3-none-any.whl.metadata (3.8 kB)\n",
            "Requirement already satisfied: httpx<0.28.0,>=0.27.0 in /usr/local/lib/python3.10/dist-packages (from ollama) (0.27.2)\n",
            "Requirement already satisfied: anyio in /usr/local/lib/python3.10/dist-packages (from httpx<0.28.0,>=0.27.0->ollama) (3.7.1)\n",
            "Requirement already satisfied: certifi in /usr/local/lib/python3.10/dist-packages (from httpx<0.28.0,>=0.27.0->ollama) (2024.8.30)\n",
            "Requirement already satisfied: httpcore==1.* in /usr/local/lib/python3.10/dist-packages (from httpx<0.28.0,>=0.27.0->ollama) (1.0.6)\n",
            "Requirement already satisfied: idna in /usr/local/lib/python3.10/dist-packages (from httpx<0.28.0,>=0.27.0->ollama) (3.10)\n",
            "Requirement already satisfied: sniffio in /usr/local/lib/python3.10/dist-packages (from httpx<0.28.0,>=0.27.0->ollama) (1.3.1)\n",
            "Requirement already satisfied: h11<0.15,>=0.13 in /usr/local/lib/python3.10/dist-packages (from httpcore==1.*->httpx<0.28.0,>=0.27.0->ollama) (0.14.0)\n",
            "Requirement already satisfied: exceptiongroup in /usr/local/lib/python3.10/dist-packages (from anyio->httpx<0.28.0,>=0.27.0->ollama) (1.2.2)\n",
            "Downloading ollama-0.3.3-py3-none-any.whl (10 kB)\n",
            "Installing collected packages: ollama\n",
            "Successfully installed ollama-0.3.3\n"
          ]
        }
      ]
    },
    {
      "cell_type": "code",
      "source": [
        "%%writefile test.py\n",
        "\n",
        "import streamlit as st\n",
        "import ollama\n",
        "from langchain_groq import ChatGroq\n",
        "from neo4j import GraphDatabase\n",
        "from langchain_community.graphs import Neo4jGraph\n",
        "from langchain.schema import HumanMessage\n",
        "\n",
        "NEO4J_URI=\"neo4j+s://efe689a5.databases.neo4j.io\"\n",
        "NEO4J_USERNAME=\"neo4j\"\n",
        "NEO4J_PASSWORD=\"tScJDhi_NBBry7rmL0rVwvkvxaEDfEL2BUK9PqgDCZY\"\n",
        "groq_api_key=\"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\"\n",
        "\n",
        "llm=ChatGroq(groq_api_key=groq_api_key,model_name=\"Gemma2-9b-It\")\n",
        "neo4j_driver = GraphDatabase.driver(NEO4J_URI, auth=(NEO4J_USERNAME, NEO4J_PASSWORD))\n",
        "graph=Neo4jGraph(\n",
        "    url=NEO4J_URI,\n",
        "    username=NEO4J_USERNAME,\n",
        "    password=NEO4J_PASSWORD,\n",
        ")\n",
        "\n",
        "# Store initial trip details\n",
        "if \"trip_initialized\" not in st.session_state:\n",
        "    st.session_state.trip_initialized = False\n",
        "\n",
        "# Get initial trip details once\n",
        "if not st.session_state.trip_initialized:\n",
        "    st.title(\"Personalized Trip Planner\")\n",
        "\n",
        "    # Initial trip information\n",
        "    st.session_state.location = st.text_input(\"Location\", \"Berlin\")\n",
        "    st.session_state.trip_date = st.date_input(\"Trip Date\")\n",
        "    st.session_state.food_pref = st.selectbox(\"Preferred Food\", [\"Local\", \"International\", \"Vegetarian\", \"Any\"])\n",
        "    st.session_state.activity_pref = st.multiselect(\"Activities\", [\"Museums\", \"Shopping\", \"Sightseeing\"])\n",
        "    st.session_state.budget = st.number_input(\"Budget\", min_value=0, value=100)\n",
        "    st.session_state.start_location = st.text_input(\"Starting Location\", \"Hotel\")\n",
        "\n",
        "    # Confirm trip details to proceed\n",
        "    if st.button(\"Confirm Trip Details\"):\n",
        "        st.session_state.trip_initialized = True\n",
        "        st.write(\"Trip details saved. You can now start the conversation.\")\n",
        "\n",
        "# Initialize conversation history\n",
        "if \"conversation_history\" not in st.session_state:\n",
        "    st.session_state.conversation_history = []\n",
        "\n",
        "#extract the relevant information from the current neo4j database\n",
        "def extract_information_from_neo4j(user_query, conversation_history, neo4j_driver, llm=llm):\n",
        "    # Generate Cypher query to fetch relevant information based on user query and conversation history\n",
        "    prompt = f\"\"\"\n",
        "    Given the following user query and conversation history, generate a Cypher query that extracts meaningful information\n",
        "    from a Neo4j database. Use the context about the user's trip, preferences, activities, food types, and any relevant\n",
        "    past interactions mentioned in the conversation history to tailor the response.\n",
        "\n",
        "    Conversation History: \"{conversation_history}\"\n",
        "\n",
        "    User Query: \"{user_query}\"\n",
        "\n",
        "    Example Format the Cypher query like:\n",
        "    MERGE (a:User {{name: 'related data'}})\n",
        "    MERGE (b:Detail {{name: 'Extracted detail'}})\n",
        "    MERGE (a)-[:RELATIONSHIP]->(b)\n",
        "\n",
        "   Provide the Cypher query based on the information from the response without any other comment. This is strict that only provide cypher query not other comment\n",
        "    \"\"\"\n",
        "\n",
        "    message = HumanMessage(content=prompt)\n",
        "    # Call llm with a list containing the HumanMessage object\n",
        "    cypher_query = llm([message]).content\n",
        "\n",
        "    try:\n",
        "        # Execute the generated Cypher query on Neo4j\n",
        "        with neo4j_driver.session() as session:\n",
        "            result = session.run(cypher_query)\n",
        "            extracted_info = [record.data() for record in result]\n",
        "\n",
        "        # Check if results exist, else return an empty list\n",
        "        if not extracted_info:\n",
        "            return []\n",
        "\n",
        "        return extracted_info\n",
        "\n",
        "    except Exception as e:\n",
        "        # Log the error (optional), and return an empty list\n",
        "        print(f\"Error while querying Neo4j: {e}\")\n",
        "        return []\n",
        "\n",
        "# Function to generate trip response\n",
        "def generate_trip_response(user_input, conversation_history, neo4j_driver=neo4j_driver, llm=llm):\n",
        "    \"\"\"\n",
        "    Generates a trip response by combining the user query, conversation history,\n",
        "    one-time collected data from session state, and extracted information from Neo4j.\n",
        "\n",
        "    Parameters:\n",
        "        user_input (str): The latest query or message from the user.\n",
        "        conversation_history (list): List of dictionaries with the conversation history.\n",
        "        extracted_info (list): Information extracted from Neo4j based on the user's context and query.\n",
        "\n",
        "    Returns:\n",
        "        str: The generated response.\n",
        "    \"\"\"\n",
        "    # Step 1: Extract relevant information from Neo4j using the user query and conversation history\n",
        "    extracted_info = extract_information_from_neo4j(user_input, conversation_history, neo4j_driver, llm)\n",
        "\n",
        "    # Construct the prompt using session state values for one-time data\n",
        "    prompt = f\"\"\"\n",
        "    You are a travel assistant helping the user plan their trip. Use the following details to answer the user's query:\n",
        "\n",
        "    - **Location**: {st.session_state.get('location', 'Not specified')}\n",
        "    - **Trip Date**: {st.session_state.get('trip_date', 'Not specified')}\n",
        "    - **Food Preference**: {st.session_state.get('food_pref', 'Not specified')}\n",
        "    - **Activities Preferred**: {\", \".join(st.session_state.get('activity_pref', []))}\n",
        "    - **Budget**: ${st.session_state.get('budget', 'Not specified')}\n",
        "    - **Starting Location**: {st.session_state.get('start_location', 'Not specified')}\n",
        "\n",
        "    Additional Information from User's Profile:\n",
        "    {extracted_info if extracted_info else 'No additional information available.'}\n",
        "\n",
        "    User's Conversation History:\n",
        "    {conversation_history}\n",
        "\n",
        "    Now, based on all this information, respond to the following user query:\n",
        "    \"{user_input}\"\n",
        "    Here provide more weightage to the recent and conversation history and extracted data.\n",
        "    Here is an example of how the response should be:\n",
        "    'User: Hi, I'd like to plan a one-day trip in Berlin.\n",
        "    System: Great! Let’s get started. What day are you planning for, and what time do you want\n",
        "    to start and end your day?\n",
        "    User: I'll be visiting on the 15th of June. I want to start at 8 AM and finish by 8 PM.\n",
        "    System: Noted. Could you tell me your interests? For example, do you like historical sites,\n",
        "    museums, shopping, or food experiences?\n",
        "    User: I like history and local food.\n",
        "    System: Excellent! What's your budget for the day?\n",
        "    User: I want to keep it aSordable, ideally under 100 Euros.\n",
        "    System: Perfect! Where would you like to start your day? You can provide your hotel or any\n",
        "    specific location, or we can start from the first attraction itself.\n",
        "    User: I'm staying at Hotel Berlin Central.\n",
        "    System: Got it! Here is an initial itinerary for your day in Berlin, starting from Hotel Berlin\n",
        "    Central:\n",
        "    • Start Point: Hotel Berlin Central to Brandenburg Gate (8:00 AM - 9:00 AM)\n",
        "    o Travel Method: Walk (15 minutes)\n",
        "    o Activity: Visit the iconic Brandenburg Gate and learn about its historical\n",
        "    significance.\n",
        "    • Second Stop: Holocaust Memorial (9:15 AM - 10:00 AM)\n",
        "    o Activity: Walk through the memorial dedicated to the victims of the\n",
        "    Holocaust.\n",
        "    • Third Stop: Reichstag Building (10:15 AM - 11:30 AM)\n",
        "    o Activity: Visit the Reichstag Building and, if you’d like, head up to the glass\n",
        "    dome for panoramic views of the city.\n",
        "    o Note: Pre-booking required for the dome visit (free).\n",
        "    • Lunch: Curry 36 (12:00 PM - 12:45 PM)\n",
        "    o Cuisine: Enjoy Berlin's famous Currywurst.\n",
        "    o Cost: Approx. 7 Euros\n",
        "    • Fourth Stop: Museum Island (1:15 PM - 3:00 PM)\n",
        "    o Activity: Visit Pergamon Museum or Neues Museum. Entry fees around 12-15\n",
        "    Euros per museum.\n",
        "    • Fifth Stop: Berliner Dom (3:15 PM - 4:00 PM)\n",
        "    o Activity: Explore the Berlin Cathedral, enjoy the architecture, and climb to\n",
        "    the top for a beautiful view.\n",
        "    • CoBee Break: Local Café near Alexanderplatz (4:15 PM - 4:45 PM)\n",
        "    o Cost: Approx. 5 Euros\n",
        "    • Sixth Stop: East Side Gallery (5:15 PM - 6:15 PM)\n",
        "    o Activity: Walk along the East Side Gallery, the longest remaining section of\n",
        "    the Berlin Wall, covered in murals by artists from around the world.\n",
        "    • Dinner: Prater Garten (6:45 PM - 7:45 PM)\n",
        "    o Cuisine: Traditional German beer garden experience.\n",
        "    o Cost: Approx. 20 Euros\n",
        "    System: Here is the updated itinerary with costs and optimized travel:\n",
        "    1. Start Point: Hotel Berlin Central to Brandenburg Gate (8:00 AM - 9:00 AM)\n",
        "    o Travel Method: Walk (15 minutes)\n",
        "    2. Second Stop: Holocaust Memorial (9:15 AM - 10:00 AM)\n",
        "    3. Third Stop: Reichstag Building (10:15 AM - 11:30 AM)\n",
        "    4. Lunch: Curry 36 (12:00 PM - 12:45 PM)\n",
        "    5. Fourth Stop: Museum Island (1:15 PM - 3:00 PM)\n",
        "    6. Fifth Stop: Berliner Dom (3:15 PM - 4:00 PM)\n",
        "    7. CoBee Break: Local Café near Alexanderplatz (4:15 PM - 4:45 PM)\n",
        "    8. Sixth Stop: East Side Gallery (5:15 PM - 6:15 PM)\n",
        "    9. Dinner: Prater Garten (6:45 PM - 7:45 PM)\n",
        "    Total Estimated Cost: Approx. 59 Euros\n",
        "    System: The weather forecast for the 15th of June looks sunny with mild temperatures,\n",
        "    perfect for walking tours. I recommend wearing comfortable shoes and carrying a water\n",
        "    bottle.'\n",
        "    Provide a detailed response considering all preferences, and if possible, suggest personalized itinerary items based on extracted information and past preferences.\n",
        "    \"\"\"\n",
        "\n",
        "    # Prepare the message format for Ollama\n",
        "    #messages = conversation_history + [{\"role\": \"user\", \"content\": prompt}]\n",
        "\n",
        "    message = HumanMessage(content=prompt)\n",
        "    llm_response = llm([message]).content # Call llm with a list containing the HumanMessage object\n",
        "    return llm_response\n",
        "\n",
        "\n",
        "# Function to generate Cypher query using ChatGroq\n",
        "def generate_cypher_query(llm_response, llm=llm):\n",
        "    user_id = st.session_state.get('session_id', 'default_user')\n",
        "    prompt = f\"\"\"\n",
        "    You are a graph database assistant. The user response is as follows: \"{llm_response}\".\n",
        "    Extract meaningful information from this response as Entity-Relationship-Entity triplets in the format:\n",
        "    (User, RELATIONSHIP, Detail). Then convert this into a Cypher query that updates the Neo4j database.\n",
        "\n",
        "    Example Triplet: (\"User\", \"PLANS_TO_VISIT\", \"Berlin\")\n",
        "\n",
        "    Format the Cypher query like:\n",
        "    MERGE (a:User {{name: '{user_id}'}})\n",
        "    MERGE (b:Detail {{name: 'Extracted detail'}})\n",
        "    MERGE (a)-[:RELATIONSHIP]->(b)\n",
        "\n",
        "    Provide the Cypher query based on the information from the response without any other comment.\n",
        "    \"\"\"\n",
        "    # Create a HumanMessage object with the prompt\n",
        "    message = HumanMessage(content=prompt)\n",
        "    cypher_query = llm([message]).content # Call llm with a list containing the HumanMessage object\n",
        "    return cypher_query\n",
        "\n",
        "# Store response in Neo4j\n",
        "def store_memory_in_neo4j(cypher_query, neo4j_driver=neo4j_driver):\n",
        "    with neo4j_driver.session() as session:\n",
        "        session.run(cypher_query)\n",
        "\n",
        "# Conversation area\n",
        "if st.session_state.trip_initialized:\n",
        "    st.write(\"### Start your conversation\")\n",
        "\n",
        "    user_message = st.text_input(\"Your message\")\n",
        "    if st.button(\"Send Message\") and user_message:\n",
        "        # Generate response with Ollama\n",
        "        llm_response = generate_trip_response(\n",
        "            user_message,\n",
        "            st.session_state.conversation_history + [\n",
        "                {\"role\": \"user\", \"content\": user_message}\n",
        "            ]\n",
        "        )\n",
        "        st.write(\"Assistant:\", llm_response)\n",
        "\n",
        "        # Append to conversation history\n",
        "        st.session_state.conversation_history.append({\"role\": \"user\", \"content\": user_message})\n",
        "        st.session_state.conversation_history.append({\"role\": \"assistant\", \"content\": llm_response})\n",
        "\n",
        "        # Generate Cypher query to update Neo4j\n",
        "        cypher_query = generate_cypher_query(llm_response)\n",
        "\n",
        "        # Store in Neo4j\n",
        "        store_memory_in_neo4j(cypher_query, neo4j_driver)\n",
        "        st.write(\"Memory updated in Neo4j.\")\n"
      ],
      "metadata": {
        "colab": {
          "base_uri": "https://localhost:8080/"
        },
        "id": "DP4SfZdBg9gZ",
        "outputId": "fe6108b1-a9bd-47fd-ff96-014aff102124"
      },
      "execution_count": null,
      "outputs": [
        {
          "output_type": "stream",
          "name": "stdout",
          "text": [
            "Overwriting app.py\n"
          ]
        }
      ]
    },
    {
      "cell_type": "code",
      "source": [
        "%%writefile app.py\n",
        "\n",
        "import streamlit as st\n",
        "import ollama\n",
        "from langchain_groq import ChatGroq\n",
        "from neo4j import GraphDatabase\n",
        "from langchain_community.graphs import Neo4jGraph\n",
        "from langchain.schema import HumanMessage, AIMessage\n",
        "import requests\n",
        "from fastapi import HTTPException\n",
        "\n",
        "NEO4J_URI=\"neo4j+s://efe689a5.databases.neo4j.io\"\n",
        "NEO4J_USERNAME=\"neo4j\"\n",
        "NEO4J_PASSWORD=\"tScJDhi_NBBry7rmL0rVwvkvxaEDfEL2BUK9PqgDCZY\"\n",
        "groq_api_key=\"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\"\n",
        "news_api=\"598f444492314398bf47cdf2cc525827\"\n",
        "weather_api=\"91fcdb9a0ce7eb272ea802e36dc324ae\"\n",
        "\n",
        "llm = ChatGroq(groq_api_key=groq_api_key, model_name=\"llama-3.1-70b-versatile\")\n",
        "neo4j_driver = GraphDatabase.driver(NEO4J_URI, auth=(NEO4J_USERNAME, NEO4J_PASSWORD))\n",
        "graph = Neo4jGraph(\n",
        "    url=NEO4J_URI,\n",
        "    username=NEO4J_USERNAME,\n",
        "    password=NEO4J_PASSWORD,\n",
        ")\n",
        "\n",
        "\n",
        "def fetch_weather_data(city, api_key=weather_api):\n",
        "    geocode_url = f\"http://api.openweathermap.org/data/2.5/weather?q={city}&appid={api_key}\"\n",
        "    response = requests.get(geocode_url)\n",
        "\n",
        "    if response.status_code != 200:\n",
        "        raise HTTPException(status_code=404, detail=\"City not found\")\n",
        "\n",
        "    city_data = response.json()\n",
        "    main=city_data['weather'][0]['main']\n",
        "    description=city_data['weather'][0]['description']\n",
        "    temperature=city_data['main']['temp']\n",
        "    humidity=city_data['main']['humidity']\n",
        "    wind_speed=city_data['wind']['speed']\n",
        "    return f\"Here the weather of main {city} is {main} having {description}. Here the temperature is {temperature} with humidity {humidity} and wind speed {wind_speed}\"\n",
        "\n",
        "def fetch_news_data(city, api_key=news_api):\n",
        "    # NewsAPI endpoint for fetching news based on query (city name)\n",
        "    base_url = \"https://newsapi.org/v2/everything\"\n",
        "\n",
        "    params = {\n",
        "        'q': city,\n",
        "        'apiKey': api_key,\n",
        "        'language': 'en',  # Adjust the language as needed\n",
        "        'pageSize': 5      # Limit to 5 news articles for the response\n",
        "    }\n",
        "\n",
        "    response = requests.get(base_url, params=params)\n",
        "\n",
        "    if response.status_code != 200:\n",
        "        raise HTTPException(status_code=500, detail=\"Failed to fetch news data\")\n",
        "\n",
        "    news_data = response.json()\n",
        "    articles = news_data.get('articles', [])\n",
        "\n",
        "    if not articles:\n",
        "        raise HTTPException(status_code=404, detail=\"No news articles found for the given city\")\n",
        "\n",
        "    # Extract and concatenate all content fields\n",
        "    combined_content = \" \".join([article.get('content', '') for article in articles if article.get('content')])\n",
        "\n",
        "    return combined_content\n",
        "\n",
        "# Store initial trip details\n",
        "if \"trip_initialized\" not in st.session_state:\n",
        "    st.session_state.trip_initialized = False\n",
        "\n",
        "# Get initial trip details once\n",
        "if not st.session_state.trip_initialized:\n",
        "    st.title(\"Personalized Trip Planner\")\n",
        "\n",
        "    # Initial trip information\n",
        "    st.session_state.location = st.text_input(\"Location\", \"Berlin\")\n",
        "    st.session_state.trip_date = st.date_input(\"Trip Date\")\n",
        "    st.session_state.food_pref = st.selectbox(\"Preferred Food\", [\"Local\", \"International\", \"Vegetarian\", \"Any\"])\n",
        "    st.session_state.activity_pref = st.multiselect(\"Activities\", [\"Museums\", \"Shopping\", \"Sightseeing\",\"Historical Sites\",\"All famous thing there\"])\n",
        "    st.session_state.budget = st.number_input(\"Budget in dollars\", min_value=0, value=100)\n",
        "    st.session_state.start_location = st.text_input(\"Starting Location\", \"Hotel\")\n",
        "\n",
        "    # Confirm trip details to proceed\n",
        "    if st.button(\"Confirm Trip Details\"):\n",
        "        st.session_state.trip_initialized = True\n",
        "        st.write(\"Trip details saved. You can now start the conversation.\")\n",
        "\n",
        "# Initialize conversation history\n",
        "if \"conversation_history\" not in st.session_state:\n",
        "    st.session_state.conversation_history = [\n",
        "        AIMessage(content=\"Hello! I'm your personalized trip planner assistant. Provide me a time to start your journey?\")\n",
        "    ]\n",
        "\n",
        "#extract the relevant information from the current neo4j database\n",
        "def extract_information_from_neo4j(user_query, neo4j_driver, llm=llm):\n",
        "    # Generate Cypher query to fetch relevant information based on user query and conversation history\n",
        "    # Retrieve up to the last 5 Cypher queries, depending on availability\n",
        "    if 'cypher_query_history' in st.session_state and st.session_state.cypher_query_history:\n",
        "      num_queries = min(5, len(st.session_state.cypher_query_history))\n",
        "      relevant_queries = st.session_state.cypher_query_history[-num_queries:]\n",
        "    else:\n",
        "      relevant_queries = []\n",
        "\n",
        "    prompt = f\"\"\"\n",
        "    Based on the user's query and relevant past Cypher queries, create a new Cypher query to extract meaningful information\n",
        "    from the Neo4j database. The Cypher query should follow a generalized format that considers user preferences, visited\n",
        "    places, recent queries, and weather data.\n",
        "\n",
        "    - **User Query**: \"{user_query}\"\n",
        "    - **Relevant Past Cypher Queries**: \"{relevant_queries}\"\n",
        "\n",
        "    The Cypher query should be similar to the example format given below without any other comment and make sure not to consider the example as fully its just for illustration how the query should look like. make use of user iput and relevant past queries to generate:\n",
        "\n",
        "    MATCH (u:User {{id: $userId}})\n",
        "    OPTIONAL MATCH (u)-[:PREFERS]->(activity:Activity)\n",
        "    OPTIONAL MATCH (u)-[:VISITED]->(place:Place)\n",
        "    OPTIONAL MATCH (u)-[:ASKED]->(query:Query)\n",
        "    OPTIONAL MATCH (weather:Weather {{location: $location, date: $date}})\n",
        "\n",
        "    WHERE\n",
        "        (activity.name IN $preferredActivities OR $preferredActivities IS NULL) AND\n",
        "        (place.budget <= $budget OR $budget IS NULL)\n",
        "\n",
        "    RETURN\n",
        "        COLLECT(DISTINCT activity.name) AS preferred_activities,\n",
        "        COLLECT(DISTINCT place.name) AS visited_places,\n",
        "        COLLECT(query.text) AS recent_queries,\n",
        "        weather.condition AS current_weather\n",
        "\n",
        "   Provide the Cypher query based on the information from the response without any other comment. This is strict that only provide cypher query not other comment\n",
        "    \"\"\"\n",
        "\n",
        "    message = HumanMessage(content=prompt)\n",
        "    # Call llm with a list containing the HumanMessage object\n",
        "    cypher_query = llm([message]).content\n",
        "\n",
        "    try:\n",
        "        # Execute the generated Cypher query on Neo4j\n",
        "        with neo4j_driver.session() as session:\n",
        "            result = session.run(cypher_query)\n",
        "            extracted_info = [record.data() for record in result]\n",
        "\n",
        "        # Check if results exist, else return an empty list\n",
        "        if not extracted_info:\n",
        "            return []\n",
        "\n",
        "        return extracted_info\n",
        "\n",
        "    except Exception as e:\n",
        "        # Log the error (optional), and return an empty list\n",
        "        return []\n",
        "\n",
        "# Function to generate trip response\n",
        "def generate_trip_response(user_input, conversation_history, neo4j_driver=neo4j_driver, llm=llm):\n",
        "    \"\"\"\n",
        "    Generates a trip response by combining the user query, conversation history,\n",
        "    one-time collected data from session state, and extracted information from Neo4j.\n",
        "\n",
        "    Parameters:\n",
        "        user_input (str): The latest query or message from the user.\n",
        "        conversation_history (list): List of dictionaries with the conversation history.\n",
        "        extracted_info (list): Information extracted from Neo4j based on the user's context and query.\n",
        "\n",
        "    Returns:\n",
        "        str: The generated response.\n",
        "    \"\"\"\n",
        "    # Step 1: Extract relevant information from Neo4j using the user query and conversation history\n",
        "    extracted_info = extract_information_from_neo4j(user_input, neo4j_driver, llm)\n",
        "    weather_data = fetch_weather_data(st.session_state.get('location', 'Not specified'))\n",
        "    news_data = fetch_news_data(st.session_state.get('location', 'Not specified'))\n",
        "\n",
        "    # Construct the prompt using session state values for one-time data\n",
        "    prompt = f\"\"\"\n",
        "    You are a travel assistant helping the user plan their trip. Use the following details to answer the user's query:\n",
        "\n",
        "    - **Location**: {st.session_state.get('location', 'Not specified')}\n",
        "    - **Trip Date**: {st.session_state.get('trip_date', 'Not specified')}\n",
        "    - **Food Preference**: {st.session_state.get('food_pref', 'Not specified')}\n",
        "    - **Activities Preferred**: {\", \".join(st.session_state.get('activity_pref', []))}\n",
        "    - **Budget**: ${st.session_state.get('budget', 'Not specified')}\n",
        "    - **Starting Location**: {st.session_state.get('start_location', 'Not specified')}\n",
        "    - **Weather**: {weather_data}\n",
        "    - **Latest News in Location**: {news_data}\n",
        "\n",
        "    Here make sure that the news data is appropriately based on the context of the trip or else don't consider it.\n",
        "    Additional Information from User's Profile:\n",
        "    {extracted_info if extracted_info else 'No additional information available.'}\n",
        "\n",
        "    User's Conversation History:\n",
        "    {conversation_history}\n",
        "\n",
        "    Now, based on all this information, respond to the following user query:\n",
        "    \"{user_input}\"\n",
        "    Here provide more weightage to the recent and conversation history and extracted data.\n",
        "    Here is an example of how the response should be:\n",
        "    'User: Hi, I'd like to plan a one-day trip in Berlin.\n",
        "    System: Great! Let’s get started. What day are you planning for, and what time do you want\n",
        "    to start and end your day?\n",
        "    User: I'll be visiting on the 15th of June. I want to start at 8 AM and finish by 8 PM.\n",
        "    System: Noted. Could you tell me your interests? For example, do you like historical sites,\n",
        "    museums, shopping, or food experiences?\n",
        "    User: I like history and local food.\n",
        "    System: Excellent! What's your budget for the day?\n",
        "    User: I want to keep it aSordable, ideally under 100 Euros.\n",
        "    System: Perfect! Where would you like to start your day? You can provide your hotel or any\n",
        "    specific location, or we can start from the first attraction itself.\n",
        "    User: I'm staying at Hotel Berlin Central.\n",
        "    System: Got it! Here is an initial itinerary for your day in Berlin, starting from Hotel Berlin\n",
        "    Central:\n",
        "    • Start Point: Hotel Berlin Central to Brandenburg Gate (8:00 AM - 9:00 AM)\n",
        "    o Travel Method: Walk (15 minutes)\n",
        "    o Activity: Visit the iconic Brandenburg Gate and learn about its historical\n",
        "    significance.\n",
        "    • Second Stop: Holocaust Memorial (9:15 AM - 10:00 AM)\n",
        "    o Activity: Walk through the memorial dedicated to the victims of the\n",
        "    Holocaust.\n",
        "    • Third Stop: Reichstag Building (10:15 AM - 11:30 AM)\n",
        "    o Activity: Visit the Reichstag Building and, if you’d like, head up to the glass\n",
        "    dome for panoramic views of the city.\n",
        "    o Note: Pre-booking required for the dome visit (free).\n",
        "    • Lunch: Curry 36 (12:00 PM - 12:45 PM)\n",
        "    o Cuisine: Enjoy Berlin's famous Currywurst.\n",
        "    o Cost: Approx. 7 Euros\n",
        "    • Fourth Stop: Museum Island (1:15 PM - 3:00 PM)\n",
        "    o Activity: Visit Pergamon Museum or Neues Museum. Entry fees around 12-15\n",
        "    Euros per museum.\n",
        "    • Fifth Stop: Berliner Dom (3:15 PM - 4:00 PM)\n",
        "    o Activity: Explore the Berlin Cathedral, enjoy the architecture, and climb to\n",
        "    the top for a beautiful view.\n",
        "    • CoBee Break: Local Café near Alexanderplatz (4:15 PM - 4:45 PM)\n",
        "    o Cost: Approx. 5 Euros\n",
        "    • Sixth Stop: East Side Gallery (5:15 PM - 6:15 PM)\n",
        "    o Activity: Walk along the East Side Gallery, the longest remaining section of\n",
        "    the Berlin Wall, covered in murals by artists from around the world.\n",
        "    • Dinner: Prater Garten (6:45 PM - 7:45 PM)\n",
        "    o Cuisine: Traditional German beer garden experience.\n",
        "    o Cost: Approx. 20 Euros\n",
        "    System: Here is the updated itinerary with costs and optimized travel:\n",
        "    1. Start Point: Hotel Berlin Central to Brandenburg Gate (8:00 AM - 9:00 AM)\n",
        "    o Travel Method: Walk (15 minutes)\n",
        "    2. Second Stop: Holocaust Memorial (9:15 AM - 10:00 AM)\n",
        "    3. Third Stop: Reichstag Building (10:15 AM - 11:30 AM)\n",
        "    4. Lunch: Curry 36 (12:00 PM - 12:45 PM)\n",
        "    5. Fourth Stop: Museum Island (1:15 PM - 3:00 PM)\n",
        "    6. Fifth Stop: Berliner Dom (3:15 PM - 4:00 PM)\n",
        "    7. CoBee Break: Local Café near Alexanderplatz (4:15 PM - 4:45 PM)\n",
        "    8. Sixth Stop: East Side Gallery (5:15 PM - 6:15 PM)\n",
        "    9. Dinner: Prater Garten (6:45 PM - 7:45 PM)\n",
        "    Total Estimated Cost: Approx. 59 Euros\n",
        "    System: The weather forecast for the 15th of June looks sunny with mild temperatures,\n",
        "    perfect for walking tours. I recommend wearing comfortable shoes and carrying a water\n",
        "    bottle.'\n",
        "    Here consider the budget we have in dollars every time and give the budget distribution during trip planning.\n",
        "    Also for any other user input apart from the trip planner provide them a response appropriately.\n",
        "    Provide a detailed response considering all preferences, and if possible, suggest personalized itinerary items based on extracted information and past preferences.\n",
        "    \"\"\"\n",
        "\n",
        "    # Prepare the message format for Ollama\n",
        "    #messages = conversation_history + [{\"role\": \"user\", \"content\": prompt}\n",
        "\n",
        "    message = AIMessage(content=prompt)\n",
        "    llm_response = llm([message]).content # Call llm with a list containing the HumanMessage object\n",
        "    return llm_response\n",
        "\n",
        "\n",
        "# Function to generate Cypher query using ChatGroq\n",
        "def generate_cypher_query(llm_response, llm=llm):\n",
        "    user_id = st.session_state.get('session_id', 'default_user')\n",
        "    prompt = f\"\"\"\n",
        "    You are a graph database assistant. The user response is as follows: \"{llm_response}\".\n",
        "    Extract meaningful information from this response as Entity-Relationship-Entity triplets in the format:\n",
        "    (User, RELATIONSHIP, Detail). Then convert this into a Cypher query that updates the Neo4j database.\n",
        "\n",
        "    Example Triplet: (\"User\", \"PLANS_TO_VISIT\", \"Berlin\")\n",
        "\n",
        "    Format the Cypher query like:\n",
        "    MERGE (a:User {{name: '{user_id}'}})\n",
        "    MERGE (b:Detail {{name: 'Extracted detail'}})\n",
        "    MERGE (a)-[:RELATIONSHIP]->(b)\n",
        "\n",
        "    Provide the Cypher query based on the information from the response without any other comment.\n",
        "    \"\"\"\n",
        "    # Create a HumanMessage object with the prompt\n",
        "    message = HumanMessage(content=prompt)\n",
        "    cypher_query = llm([message]).content # Call llm with a list containing the HumanMessage object\n",
        "    return cypher_query\n",
        "\n",
        "# Store response in Neo4j\n",
        "def store_memory_in_neo4j(cypher_query, neo4j_driver=neo4j_driver):\n",
        "    with neo4j_driver.session() as session:\n",
        "        session.run(cypher_query)\n",
        "\n",
        "# Display chat history\n",
        "for message in st.session_state.conversation_history:\n",
        "    if isinstance(message, AIMessage):\n",
        "        with st.chat_message(\"AI\"):\n",
        "            st.markdown(message.content)\n",
        "    elif isinstance(message, HumanMessage):\n",
        "        with st.chat_message(\"Human\"):\n",
        "            st.markdown(message.content)\n",
        "\n",
        "# User input for new query\n",
        "user_query = st.chat_input(\"Type a message...\")\n",
        "if user_query is not None and user_query.strip() != \"\":\n",
        "    st.session_state.conversation_history.append(HumanMessage(content=user_query))\n",
        "\n",
        "    with st.chat_message(\"Human\"):\n",
        "        st.markdown(user_query)\n",
        "\n",
        "    with st.chat_message(\"AI\"):\n",
        "        try:\n",
        "            response = generate_trip_response(user_query, st.session_state.conversation_history)\n",
        "            st.markdown(response)\n",
        "            st.session_state.conversation_history.append(AIMessage(content=response))\n",
        "            # Generate Cypher query to update Neo4j\n",
        "            cypher_query = generate_cypher_query(response)\n",
        "            store_memory_in_neo4j(cypher_query, neo4j_driver)\n",
        "            # Append the generated Cypher query to cypher_query_history for later retrieval\n",
        "            if 'cypher_query_history' not in st.session_state:\n",
        "                st.session_state.cypher_query_history = []\n",
        "            st.session_state.cypher_query_history.append(cypher_query)\n",
        "\n",
        "        except Exception as e:\n",
        "            #st.error(f\"Error processing query: {e}\")\n",
        "            pass\n"
      ],
      "metadata": {
        "colab": {
          "base_uri": "https://localhost:8080/"
        },
        "id": "W6V2IT7T30PH",
        "outputId": "1953d934-0c46-4fcb-d36f-c69e02ab09ff"
      },
      "execution_count": null,
      "outputs": [
        {
          "output_type": "stream",
          "name": "stdout",
          "text": [
            "Overwriting app.py\n"
          ]
        }
      ]
    },
    {
      "cell_type": "code",
      "source": [
        "!streamlit run app.py &>/content/logs.txt & !npx localtunnel --port 8501 & curl ipv4.icanhazip.com"
      ],
      "metadata": {
        "colab": {
          "base_uri": "https://localhost:8080/"
        },
        "id": "xHk4V0PPuLej",
        "outputId": "88a5cfba-f9c0-4d5f-b5db-6ea696acf620"
      },
      "execution_count": null,
      "outputs": [
        {
          "output_type": "stream",
          "name": "stdout",
          "text": [
            "/bin/bash: line 1: !npx: command not found\n",
            "34.90.227.26\n"
          ]
        }
      ]
    },
    {
      "cell_type": "code",
      "source": [
        "!npx localtunnel --port 8501"
      ],
      "metadata": {
        "colab": {
          "base_uri": "https://localhost:8080/"
        },
        "id": "Ownj0KYcuPPr",
        "outputId": "f1798c59-32e4-4b43-b8a9-b7a4db0fefe2"
      },
      "execution_count": null,
      "outputs": [
        {
          "output_type": "stream",
          "name": "stdout",
          "text": [
            "your url is: https://yummy-rabbits-mate.loca.lt\n",
            "^C\n"
          ]
        }
      ]
    },
    {
      "cell_type": "code",
      "source": [
        "!pip install fastapi"
      ],
      "metadata": {
        "colab": {
          "base_uri": "https://localhost:8080/"
        },
        "id": "wl3HOPII9Zis",
        "outputId": "591d3a26-b6bd-41a3-baff-0c7168a0855d"
      },
      "execution_count": null,
      "outputs": [
        {
          "output_type": "stream",
          "name": "stdout",
          "text": [
            "Collecting fastapi\n",
            "  Downloading fastapi-0.115.4-py3-none-any.whl.metadata (27 kB)\n",
            "Collecting starlette<0.42.0,>=0.40.0 (from fastapi)\n",
            "  Downloading starlette-0.41.2-py3-none-any.whl.metadata (6.0 kB)\n",
            "Requirement already satisfied: pydantic!=1.8,!=1.8.1,!=2.0.0,!=2.0.1,!=2.1.0,<3.0.0,>=1.7.4 in /usr/local/lib/python3.10/dist-packages (from fastapi) (2.9.2)\n",
            "Requirement already satisfied: typing-extensions>=4.8.0 in /usr/local/lib/python3.10/dist-packages (from fastapi) (4.12.2)\n",
            "Requirement already satisfied: annotated-types>=0.6.0 in /usr/local/lib/python3.10/dist-packages (from pydantic!=1.8,!=1.8.1,!=2.0.0,!=2.0.1,!=2.1.0,<3.0.0,>=1.7.4->fastapi) (0.7.0)\n",
            "Requirement already satisfied: pydantic-core==2.23.4 in /usr/local/lib/python3.10/dist-packages (from pydantic!=1.8,!=1.8.1,!=2.0.0,!=2.0.1,!=2.1.0,<3.0.0,>=1.7.4->fastapi) (2.23.4)\n",
            "Requirement already satisfied: anyio<5,>=3.4.0 in /usr/local/lib/python3.10/dist-packages (from starlette<0.42.0,>=0.40.0->fastapi) (3.7.1)\n",
            "Requirement already satisfied: idna>=2.8 in /usr/local/lib/python3.10/dist-packages (from anyio<5,>=3.4.0->starlette<0.42.0,>=0.40.0->fastapi) (3.10)\n",
            "Requirement already satisfied: sniffio>=1.1 in /usr/local/lib/python3.10/dist-packages (from anyio<5,>=3.4.0->starlette<0.42.0,>=0.40.0->fastapi) (1.3.1)\n",
            "Requirement already satisfied: exceptiongroup in /usr/local/lib/python3.10/dist-packages (from anyio<5,>=3.4.0->starlette<0.42.0,>=0.40.0->fastapi) (1.2.2)\n",
            "Downloading fastapi-0.115.4-py3-none-any.whl (94 kB)\n",
            "\u001b[2K   \u001b[90m━━━━━━━━━━━━━━━━━━━━━━━━━━━━━━━━━━━━━━━━\u001b[0m \u001b[32m94.7/94.7 kB\u001b[0m \u001b[31m7.7 MB/s\u001b[0m eta \u001b[36m0:00:00\u001b[0m\n",
            "\u001b[?25hDownloading starlette-0.41.2-py3-none-any.whl (73 kB)\n",
            "\u001b[2K   \u001b[90m━━━━━━━━━━━━━━━━━━━━━━━━━━━━━━━━━━━━━━━━\u001b[0m \u001b[32m73.3/73.3 kB\u001b[0m \u001b[31m6.2 MB/s\u001b[0m eta \u001b[36m0:00:00\u001b[0m\n",
            "\u001b[?25hInstalling collected packages: starlette, fastapi\n",
            "Successfully installed fastapi-0.115.4 starlette-0.41.2\n"
          ]
        }
      ]
    },
    {
      "cell_type": "code",
      "source": [
        "import requests\n",
        "from fastapi import HTTPException\n",
        "\n",
        "def fetch_weather_data(city: str, api_key: str):\n",
        "    geocode_url = f\"http://api.openweathermap.org/data/2.5/weather?q={city}&appid={api_key}\"\n",
        "    response = requests.get(geocode_url)\n",
        "\n",
        "    if response.status_code != 200:\n",
        "        raise HTTPException(status_code=404, detail=\"City not found\")\n",
        "\n",
        "    city_data = response.json()\n",
        "    main=city_data['weather'][0]['main']\n",
        "    description=city_data['weather'][0]['description']\n",
        "    temperature=city_data['main']['temp']\n",
        "    humidity=city_data['main']['humidity']\n",
        "    wind_speed=city_data['wind']['speed']\n",
        "    return f\"Here the weather of main {city} is {main} having {description}. Here the temperature is {temperature} with humidity {humidity} and wind speed {wind_speed}\""
      ],
      "metadata": {
        "id": "U9s6fVgn9SRK"
      },
      "execution_count": null,
      "outputs": []
    },
    {
      "cell_type": "code",
      "source": [
        "import requests\n",
        "from fastapi import HTTPException\n",
        "\n",
        "def fetch_news_data(city: str, api_key: str):\n",
        "    # NewsAPI endpoint for fetching news based on query (city name)\n",
        "    base_url = \"https://newsapi.org/v2/everything\"\n",
        "\n",
        "    params = {\n",
        "        'q': city,\n",
        "        'apiKey': api_key,\n",
        "        'language': 'en',  # Adjust the language as needed\n",
        "        'pageSize': 5      # Limit to 5 news articles for the response\n",
        "    }\n",
        "\n",
        "    response = requests.get(base_url, params=params)\n",
        "\n",
        "    if response.status_code != 200:\n",
        "        raise HTTPException(status_code=500, detail=\"Failed to fetch news data\")\n",
        "\n",
        "    news_data = response.json()\n",
        "    articles = news_data.get('articles', [])\n",
        "\n",
        "    if not articles:\n",
        "        raise HTTPException(status_code=404, detail=\"No news articles found for the given city\")\n",
        "\n",
        "    # Extract and concatenate all content fields\n",
        "    combined_content = \" \".join([article.get('content', '') for article in articles if article.get('content')])\n",
        "\n",
        "    return combined_content"
      ],
      "metadata": {
        "id": "qih6TRjhDvqx"
      },
      "execution_count": null,
      "outputs": []
    },
    {
      "cell_type": "code",
      "source": [
        "print(fetch_news_data(\"Berlin\",\"598f444492314398bf47cdf2cc525827\"))"
      ],
      "metadata": {
        "colab": {
          "base_uri": "https://localhost:8080/"
        },
        "id": "r1QBiJ7EEB_4",
        "outputId": "dbc3d45e-375d-49a0-f0ae-e2c5d90b5c6a"
      },
      "execution_count": null,
      "outputs": [
        {
          "output_type": "stream",
          "name": "stdout",
          "text": [
            "US embassies in the UK, France, Belgium, and Germany won't be hosting election-night watch parties this year.Richard Baker / In Pictures via Getty Images Images\r\n",
            "<ul><li>Some US embassies in Europe a… [+2905 chars] Even if youre a die-hard neutral lover or a fan of all things traditional, OBJEKTE UNSERER TAGE (OUT) makes it impossible not to fall for their bold, vibrant collections. The Berlin-based brand thriv… [+1707 chars] This is part 4 of a 5-part series detailing what I wish I had known as an\r\n",
            "American programmer moving to Berlin. This page details cultural differences and things I wasn’t aware of until I stumbled o… [+58875 chars] Business Insider's reporter booked Airbnbs outside of cities in Europe and found some hidden gems in Germany and Switzerland.Joey Hadden/Business Insider\r\n",
            "<ul>\n",
            "<li>I backpacked across six cities and … [+2801 chars] BERLIN German Chancellor Olaf Scholz has fired Finance Minister Christian Lindner, paving the way for a confidence vote by parliament on Jan. 15 that is expected to lead to early elections next March… [+1985 chars]\n"
          ]
        }
      ]
    },
    {
      "cell_type": "code",
      "source": [
        "print(fetch_weather_data(\"Berlin\",\"91fcdb9a0ce7eb272ea802e36dc324ae\"))"
      ],
      "metadata": {
        "colab": {
          "base_uri": "https://localhost:8080/"
        },
        "id": "-E7Pfets-S4c",
        "outputId": "1fde8166-aa31-43bb-a90f-0961b3bb8c2c"
      },
      "execution_count": null,
      "outputs": [
        {
          "output_type": "stream",
          "name": "stdout",
          "text": [
            "Here the weather of main Berlin is Clouds having overcast clouds. Here the temperature is 278.53 with humidity 89 and wind speed 5.66\n"
          ]
        }
      ]
    },
    {
      "cell_type": "code",
      "source": [
        "new_api=\"598f444492314398bf47cdf2cc525827\"\n",
        "weather_api=\"91fcdb9a0ce7eb272ea802e36dc324ae\""
      ],
      "metadata": {
        "id": "SlQ6_aTZDn6q"
      },
      "execution_count": null,
      "outputs": []
    }
  ]
}